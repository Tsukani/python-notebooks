{
 "cells": [
  {
   "cell_type": "code",
   "execution_count": 76,
   "id": "9da36e0a-8701-463c-95c5-7d4266ff52d2",
   "metadata": {},
   "outputs": [
    {
     "name": "stdout",
     "output_type": "stream",
     "text": [
      "0\n",
      "[127.    83.75]\n",
      "Paula: Fakta - 83.75\n",
      "1\n",
      "[166.25 110.5 ]\n",
      "Peter: Fakta - 110.5\n",
      "2\n",
      "[244.75 158.5 ]\n",
      "Pandora: Fakta - 158.5\n",
      "3\n",
      "[102.5  116.25]\n",
      "Pietro: Netto - 102.5\n"
     ]
    }
   ],
   "source": [
    "import pandas as pd\n",
    "import numpy as np\n",
    "shoppers = {\n",
    "'Paula':{'Is':4,'Juice':2,'Kakao':3,'Lagkager':2},\n",
    "'Peter':{'Is':2,'Juice':5,'Kakao':0, 'Lagkager':4},\n",
    "'Pandora':{'Is':5,'Juice':3, 'Kakao':4, 'Lagkager':5},\n",
    "'Pietro':{'Is':1,'Juice':8, 'Kakao':9, 'Lagkager':1}\n",
    "}\n",
    "shop_prices = {\n",
    "    'Netto': {'Is':10.50,'Juice':2.25,'Kakao':4.50,'Lagkager':33.50},\n",
    "    'Fakta': {'Is':4.00,'Juice':4.50,'Kakao':6.25,'Lagkager':20.00}\n",
    "}\n",
    "\n",
    "P = pd.DataFrame(shoppers).T.to_numpy()\n",
    "Q = pd.DataFrame(shop_prices).to_numpy()\n",
    "R = P.dot(Q)\n",
    "\n",
    "iterate = 0\n",
    "for key, value in shoppers.items():\n",
    "    print(iterate)\n",
    "    print(str(R[iterate]))\n",
    "    print(key + ': ' + str(list(shop_prices.keys())[np.argmin(R[iterate])]) + ' - ' + str(np.min(R[iterate])))\n",
    "    iterate += 1\n",
    "\n"
   ]
  }
 ],
 "metadata": {
  "kernelspec": {
   "display_name": "Python 3 (ipykernel)",
   "language": "python",
   "name": "python3"
  },
  "language_info": {
   "codemirror_mode": {
    "name": "ipython",
    "version": 3
   },
   "file_extension": ".py",
   "mimetype": "text/x-python",
   "name": "python",
   "nbconvert_exporter": "python",
   "pygments_lexer": "ipython3",
   "version": "3.10.6"
  }
 },
 "nbformat": 4,
 "nbformat_minor": 5
}
